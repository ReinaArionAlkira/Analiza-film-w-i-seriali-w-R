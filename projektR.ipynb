{
 "cells": [
  {
   "attachments": {},
   "cell_type": "markdown",
   "id": "13b7ff33",
   "metadata": {},
   "source": [
    "# Analiza zawartości Netflixa\n",
    " \n",
    "Wykorzystana baza: netflix_titles.csv  \n",
    "Źródło: https://www.kaggle.com/datasets/shivamb/netflix-shows?datasetId=434238&searchQuery=R  \n",
    "Ostatnia aktualizacja bazy: 27.09.2021r  \n",
    "Data pobrania: 22.01.2023r  "
   ]
  },
  {
   "cell_type": "code",
   "execution_count": 2,
   "id": "36915415",
   "metadata": {
    "vscode": {
     "languageId": "r"
    }
   },
   "outputs": [],
   "source": [
    "library(tidyr)\n",
    "library(dplyr)\n",
    "library(ggrepel)\n",
    "library(treemap)"
   ]
  },
  {
   "cell_type": "code",
   "execution_count": 90,
   "id": "b27f7121",
   "metadata": {
    "vscode": {
     "languageId": "r"
    }
   },
   "outputs": [
    {
     "name": "stdout",
     "output_type": "stream",
     "text": [
      "Observations: 8,807\n",
      "Variables: 12\n",
      "$ show_id      <chr> \"s1\", \"s2\", \"s3\", \"s4\", \"s5\", \"s6\", \"s7\", \"s8\", \"s9\", ...\n",
      "$ type         <chr> \"Movie\", \"TV Show\", \"TV Show\", \"TV Show\", \"TV Show\", \"...\n",
      "$ title        <chr> \"Dick Johnson Is Dead\", \"Blood & Water\", \"Ganglands\", ...\n",
      "$ director     <chr> \"Kirsten Johnson\", \"\", \"Julien Leclercq\", \"\", \"\", \"Mik...\n",
      "$ cast         <chr> \"\", \"Ama Qamata, Khosi Ngema, Gail Mabalane, Thabang M...\n",
      "$ country      <chr> \"United States\", \"South Africa\", \"\", \"\", \"India\", \"\", ...\n",
      "$ date_added   <chr> \"September 25, 2021\", \"September 24, 2021\", \"September...\n",
      "$ release_year <int> 2020, 2021, 2021, 2021, 2021, 2021, 2021, 1993, 2021, ...\n",
      "$ rating       <chr> \"PG-13\", \"TV-MA\", \"TV-MA\", \"TV-MA\", \"TV-MA\", \"TV-MA\", ...\n",
      "$ duration     <chr> \"90 min\", \"2 Seasons\", \"1 Season\", \"1 Season\", \"2 Seas...\n",
      "$ listed_in    <chr> \"Documentaries\", \"International TV Shows, TV Dramas, T...\n",
      "$ description  <chr> \"As her father nears the end of his life, filmmaker Ki...\n"
     ]
    }
   ],
   "source": [
    "df = data.frame(read.csv(\"netflix_titles.csv\", header=TRUE, sep=\",\", dec=\".\", stringsAsFactors = FALSE))\n",
    "glimpse(df)"
   ]
  },
  {
   "cell_type": "markdown",
   "id": "c20cc9be",
   "metadata": {},
   "source": [
    "### Sprawdzenie w których kolumnach znajdują się puste komórki:"
   ]
  },
  {
   "cell_type": "code",
   "execution_count": 4,
   "id": "49a44069",
   "metadata": {
    "vscode": {
     "languageId": "r"
    }
   },
   "outputs": [],
   "source": [
    "dfx = which(df == \"\", arr.ind = T)\n",
    "dfx = table(dfx[, 2])\n",
    "dfBlanks <- data.frame(NumerKolumny = colnames(df[as.numeric(names(dfx))]), IloscPowtorzen = as.numeric(dfx))"
   ]
  },
  {
   "cell_type": "code",
   "execution_count": 5,
   "id": "19e74210",
   "metadata": {
    "vscode": {
     "languageId": "r"
    }
   },
   "outputs": [
    {
     "data": {
      "image/png": "[encoded data removed]",
      "text/plain": [
       "plot without title"
      ]
     },
     "metadata": {},
     "output_type": "display_data"
    }
   ],
   "source": [
    "ggplot(dfBlanks, aes(x = reorder(NumerKolumny, IloscPowtorzen), y = IloscPowtorzen, fill = NumerKolumny)) + \n",
    "  geom_col() +  \n",
    "  labs(x = \"Kolumny\", y = \"IloscPowtorzen\") + \n",
    "  ggtitle(\"Ilość braków w kolumnach\") +\n",
    "  theme(legend.position = \"none\") +\n",
    "  scale_fill_manual(values = c(rep(\"#3366CC\", 6))) +\n",
    "  geom_text_repel(aes(label = stat(y), group = factor(NumerKolumny)), position = position_nudge_repel(y = 1)) + \n",
    "  coord_flip()"
   ]
  },
  {
   "cell_type": "markdown",
   "id": "4cc77898",
   "metadata": {},
   "source": [
    "#### Można pozbywać się pustych danych na kilka sposobów\n",
    "1. wszystkie wiersze zawierające - usunąć\n",
    "2. zamienić je na coś spodziewanego np \"Brak informacji\"\n",
    "3. przewidzieć wartość - np na najczęściej występujący\n"
   ]
  },
  {
   "cell_type": "markdown",
   "id": "f939681d",
   "metadata": {},
   "source": [
    "W przypadku:\n",
    "- kraju, \n",
    "- obsady, \n",
    "- daty dodania, \n",
    "- reżysera,\n",
    "- długości.   \n",
    "\n",
    "Użyjemy punktu 2. Jeśli zaś chodzi o kategorię, skorzystamy z 3 opcji  \n",
    "\n",
    "Po dokładniejszym zastanowieniu w naszej analizie nie wykorzystamy w żaden sposób kolumn: \"cast\" oraz \"director\"  \n",
    "Więc zamiast uzupełniać dane w tych kolumnach, można się ich po prostu pozbyć"
   ]
  },
  {
   "cell_type": "code",
   "execution_count": 6,
   "id": "3f2bbfff",
   "metadata": {
    "vscode": {
     "languageId": "r"
    }
   },
   "outputs": [],
   "source": [
    "df = df[, -4]\n",
    "df = df[, -4]\n",
    "df$duration[df$duration == \"\"] = \"Brak danych\"\n",
    "df$country[df$country == \"\"] = \"Brak danych\"\n",
    "df$date_added[df$date_added == \"\"] = \"Brak danych\"\n",
    "df$date_added = trimws(df$date_added)"
   ]
  },
  {
   "cell_type": "markdown",
   "id": "5242978f",
   "metadata": {},
   "source": [
    "Podczas przygotowania danych do uzupełnienia braków, zauważamy  \n",
    "    że w kolumnie znajdują się niepoprawne dane   \n",
    "\"66 min\", \"74min\" oraz \"84 min\"  \n",
    "Kojarzymy format danych z następną kolumną - duration"
   ]
  },
  {
   "cell_type": "code",
   "execution_count": 7,
   "id": "1f474f5d",
   "metadata": {
    "vscode": {
     "languageId": "r"
    }
   },
   "outputs": [
    {
     "data": {
      "text/html": [
       "<ol class=list-inline>\n",
       "\t<li>'66 min'</li>\n",
       "\t<li>'74 min'</li>\n",
       "\t<li>'84 min'</li>\n",
       "\t<li>'NC-17'</li>\n",
       "\t<li>'UR'</li>\n",
       "\t<li>''</li>\n",
       "\t<li>'TV-Y7-FV'</li>\n",
       "\t<li>'G'</li>\n",
       "\t<li>'NR'</li>\n",
       "\t<li>'TV-G'</li>\n",
       "\t<li>'PG'</li>\n",
       "\t<li>'TV-Y'</li>\n",
       "\t<li>'TV-Y7'</li>\n",
       "\t<li>'PG-13'</li>\n",
       "\t<li>'R'</li>\n",
       "\t<li>'TV-PG'</li>\n",
       "\t<li>'TV-14'</li>\n",
       "\t<li>'TV-MA'</li>\n",
       "</ol>\n"
      ],
      "text/latex": [
       "\\begin{enumerate*}\n",
       "\\item '66 min'\n",
       "\\item '74 min'\n",
       "\\item '84 min'\n",
       "\\item 'NC-17'\n",
       "\\item 'UR'\n",
       "\\item ''\n",
       "\\item 'TV-Y7-FV'\n",
       "\\item 'G'\n",
       "\\item 'NR'\n",
       "\\item 'TV-G'\n",
       "\\item 'PG'\n",
       "\\item 'TV-Y'\n",
       "\\item 'TV-Y7'\n",
       "\\item 'PG-13'\n",
       "\\item 'R'\n",
       "\\item 'TV-PG'\n",
       "\\item 'TV-14'\n",
       "\\item 'TV-MA'\n",
       "\\end{enumerate*}\n"
      ],
      "text/markdown": [
       "1. '66 min'\n",
       "2. '74 min'\n",
       "3. '84 min'\n",
       "4. 'NC-17'\n",
       "5. 'UR'\n",
       "6. ''\n",
       "7. 'TV-Y7-FV'\n",
       "8. 'G'\n",
       "9. 'NR'\n",
       "10. 'TV-G'\n",
       "11. 'PG'\n",
       "12. 'TV-Y'\n",
       "13. 'TV-Y7'\n",
       "14. 'PG-13'\n",
       "15. 'R'\n",
       "16. 'TV-PG'\n",
       "17. 'TV-14'\n",
       "18. 'TV-MA'\n",
       "\n",
       "\n"
      ],
      "text/plain": [
       " [1] \"66 min\"   \"74 min\"   \"84 min\"   \"NC-17\"    \"UR\"       \"\"        \n",
       " [7] \"TV-Y7-FV\" \"G\"        \"NR\"       \"TV-G\"     \"PG\"       \"TV-Y\"    \n",
       "[13] \"TV-Y7\"    \"PG-13\"    \"R\"        \"TV-PG\"    \"TV-14\"    \"TV-MA\"   "
      ]
     },
     "metadata": {},
     "output_type": "display_data"
    }
   ],
   "source": [
    "names(sort(table(df$rating)))"
   ]
  },
  {
   "cell_type": "markdown",
   "id": "857aaee9",
   "metadata": {},
   "source": [
    "Sprawdzamy czy wiersze z tymi danymi posiadają rekordy w duration"
   ]
  },
  {
   "cell_type": "code",
   "execution_count": 8,
   "id": "168e6e8e",
   "metadata": {
    "vscode": {
     "languageId": "r"
    }
   },
   "outputs": [
    {
     "data": {
      "text/html": [
       "<table>\n",
       "<thead><tr><th></th><th scope=col>duration</th><th scope=col>type</th></tr></thead>\n",
       "<tbody>\n",
       "\t<tr><th scope=row>5542</th><td>Brak danych</td><td>Movie      </td></tr>\n",
       "\t<tr><th scope=row>5795</th><td>Brak danych</td><td>Movie      </td></tr>\n",
       "\t<tr><th scope=row>5814</th><td>Brak danych</td><td>Movie      </td></tr>\n",
       "</tbody>\n",
       "</table>\n"
      ],
      "text/latex": [
       "\\begin{tabular}{r|ll}\n",
       "  & duration & type\\\\\n",
       "\\hline\n",
       "\t5542 & Brak danych & Movie      \\\\\n",
       "\t5795 & Brak danych & Movie      \\\\\n",
       "\t5814 & Brak danych & Movie      \\\\\n",
       "\\end{tabular}\n"
      ],
      "text/markdown": [
       "\n",
       "| <!--/--> | duration | type |\n",
       "|---|---|---|\n",
       "| 5542 | Brak danych | Movie       |\n",
       "| 5795 | Brak danych | Movie       |\n",
       "| 5814 | Brak danych | Movie       |\n",
       "\n"
      ],
      "text/plain": [
       "     duration    type \n",
       "5542 Brak danych Movie\n",
       "5795 Brak danych Movie\n",
       "5814 Brak danych Movie"
      ]
     },
     "metadata": {},
     "output_type": "display_data"
    }
   ],
   "source": [
    "checking <- df[is.element(df$rating, c('66 min','74 min', '84 min')),]\n",
    "checking[c(\"duration\",\"type\")]"
   ]
  },
  {
   "cell_type": "markdown",
   "id": "d8c9bb62",
   "metadata": {},
   "source": [
    "Jak widzimy były to puste pola, dodatkowo typ każdego z nich to film.  \n",
    "Stąd wniosek, że ten błąd wynika z pomyłki ludzkiej, więc należy zamienić dane miejscami,  \n",
    "a następnie przypiszemy do pustych jak i błędnych danych najczęściej występujący typ"
   ]
  },
  {
   "cell_type": "code",
   "execution_count": 9,
   "id": "89188cf8",
   "metadata": {
    "vscode": {
     "languageId": "r"
    }
   },
   "outputs": [],
   "source": [
    "df$duration[df$rating == \"66 min\"] <- \"66 min\"\n",
    "df$duration[df$rating == \"74 min\"] <- \"74 min\"\n",
    "df$duration[df$rating == \"84 min\"] <- \"84 min\"\n",
    "df$rating[is.element(df$rating, c('66 min','74 min', '84 min'))] = names(sort(-table(df$rating)))[1]\n",
    "df$rating[df$rating == \"\"] = names(sort(-table(df$rating)))[1]"
   ]
  },
  {
   "cell_type": "code",
   "execution_count": 10,
   "id": "1cccbc46",
   "metadata": {
    "vscode": {
     "languageId": "r"
    }
   },
   "outputs": [
    {
     "data": {
      "text/plain": [
       "< table of extent 0 >"
      ]
     },
     "metadata": {},
     "output_type": "display_data"
    }
   ],
   "source": [
    "dfx = which(df == \"\", arr.ind = T)\n",
    "dfx = table(dfx[, 2])\n",
    "dfx"
   ]
  },
  {
   "cell_type": "markdown",
   "id": "1e84f39e",
   "metadata": {},
   "source": [
    "Pozbyliśmy się wszystkich braków wartości"
   ]
  },
  {
   "cell_type": "markdown",
   "id": "817a482f",
   "metadata": {},
   "source": [
    "## Sprawdzanie liczby unikalnych wartości  \n",
    "by wiedzieć co warto sklasyfikować\n"
   ]
  },
  {
   "cell_type": "code",
   "execution_count": 11,
   "id": "3b873755",
   "metadata": {
    "vscode": {
     "languageId": "r"
    }
   },
   "outputs": [
    {
     "data": {
      "image/png": "[encoded data removed]",
      "text/plain": [
       "plot without title"
      ]
     },
     "metadata": {},
     "output_type": "display_data"
    }
   ],
   "source": [
    "uniques <- apply(df, MARGIN = 2, FUN = function(x) length(unique(x)))\n",
    "                 \n",
    "# Dołożenie do liczb odpowiadające im nazwy kolumn\n",
    "uniques <- data.frame(Kolumny = names(uniques), Unikalne = uniques, stringsAsFactors =  F)\n",
    "                 \n",
    "ggplot(uniques, aes(x = reorder(Kolumny, Unikalne), y = Unikalne, fill = Kolumny)) +\n",
    "  geom_col() +\n",
    "  ggtitle(\"Ilość unikalnych wartości w kolumnach\") +\n",
    "  theme(plot.title = element_text(size=20, face=\"bold\"),) +\n",
    "  theme(legend.position = \"none\") +\n",
    "  theme(axis.text.x = element_text(angle = 90, vjust = 0.5, hjust=1)) + \n",
    "  scale_fill_manual(values = c(rep(\"#0000AA\",2), \"#3366CC\", rep(\"#0000AA\",4), \"#3366CC\",\"#3366CC\", \"#0000AA\")) + \n",
    "  labs(x = \"Kolumny\", y = \"Unikalne wartości\") + \n",
    "  geom_text_repel(aes(label = stat(y), group = factor(Unikalne)), position = position_nudge_repel(y = 10)) + \n",
    "  coord_flip()"
   ]
  },
  {
   "cell_type": "markdown",
   "id": "9e03e4d6",
   "metadata": {},
   "source": [
    "Jak widać kolumny:  \n",
    "\"title\", \"show_id\" oraz \"description\" (zaznaczone innym kolorem)  \n",
    "posiadają taką samą lub prawie taką samą liczbę unikalnych wartości, co rekordów  \n",
    "dlatego tymi wartościami nie będziemy się zajmować  \n",
    "\n",
    "Najmniej natomiast ma kolumna typ, dlatego właśnie od niej zaczniemy"
   ]
  },
  {
   "cell_type": "code",
   "execution_count": 12,
   "id": "6dcafc15",
   "metadata": {
    "vscode": {
     "languageId": "r"
    }
   },
   "outputs": [
    {
     "data": {
      "text/html": [
       "<ol class=list-inline>\n",
       "\t<li>'Movie'</li>\n",
       "\t<li>'TV Show'</li>\n",
       "</ol>\n"
      ],
      "text/latex": [
       "\\begin{enumerate*}\n",
       "\\item 'Movie'\n",
       "\\item 'TV Show'\n",
       "\\end{enumerate*}\n"
      ],
      "text/markdown": [
       "1. 'Movie'\n",
       "2. 'TV Show'\n",
       "\n",
       "\n"
      ],
      "text/plain": [
       "[1] \"Movie\"   \"TV Show\""
      ]
     },
     "metadata": {},
     "output_type": "display_data"
    }
   ],
   "source": [
    "unique(df$type)"
   ]
  },
  {
   "cell_type": "markdown",
   "id": "efc52844",
   "metadata": {},
   "source": [
    "## Podział bazy na filmy i seriale"
   ]
  },
  {
   "cell_type": "code",
   "execution_count": 13,
   "id": "7e622a6c",
   "metadata": {
    "vscode": {
     "languageId": "r"
    }
   },
   "outputs": [
    {
     "data": {
      "image/png": "[encoded data removed]",
      "text/plain": [
       "plot without title"
      ]
     },
     "metadata": {},
     "output_type": "display_data"
    }
   ],
   "source": [
    "tvShows <- df[df$type == \"TV Show\", ]\n",
    "movies <- df[df$type == \"Movie\", ]\n",
    "types <- data.frame(Typ = c(\"TV Show\", \"Movie\"), Ilosc = c(nrow(tvShows), nrow(movies)))\n",
    "\n",
    "ggplot(types, aes(x = Typ, y = Ilosc, fill = Typ)) + \n",
    "  geom_col() + \n",
    "  ggtitle(\"Porównanie ilości filmów i seriali\") + \n",
    "  theme(plot.title = element_text(size=20, face=\"bold\"),) +\n",
    "  scale_fill_manual(values = c(\"#0000AA\", \"#3366CC\")) +\n",
    "  geom_text_repel(aes(label = stat(y), group = factor(Typ)), position = position_nudge_repel(y = -2), color = \"white\")"
   ]
  },
  {
   "cell_type": "markdown",
   "id": "fa625e8e",
   "metadata": {},
   "source": [
    "zdecydowanie więcej jest filmów - różnica:"
   ]
  },
  {
   "cell_type": "code",
   "execution_count": 14,
   "id": "376cd658",
   "metadata": {
    "vscode": {
     "languageId": "r"
    }
   },
   "outputs": [
    {
     "data": {
      "text/html": [
       "3455"
      ],
      "text/latex": [
       "3455"
      ],
      "text/markdown": [
       "3455"
      ],
      "text/plain": [
       "[1] 3455"
      ]
     },
     "metadata": {},
     "output_type": "display_data"
    }
   ],
   "source": [
    "types$Ilosc[2] - types$Ilosc[1] "
   ]
  },
  {
   "cell_type": "markdown",
   "id": "403baa86",
   "metadata": {},
   "source": [
    "## Kategorie wiekowe  \n",
    "Następna kolumna: rating  \n",
    "Przy rozpoznaniu oznaczeń pomogła strona https://help.netflix.com/pl/node/2064/us"
   ]
  },
  {
   "cell_type": "code",
   "execution_count": 15,
   "id": "7751463e",
   "metadata": {
    "vscode": {
     "languageId": "r"
    }
   },
   "outputs": [
    {
     "data": {
      "image/png": "[encoded data removed]",
      "text/plain": [
       "plot without title"
      ]
     },
     "metadata": {},
     "output_type": "display_data"
    }
   ],
   "source": [
    "# Dodajemy nową kolumnę z prostszym podziałem: dzieci, nastolatki, dorośli\n",
    "rating = c('TV-Y', 'TV-Y7', 'TV-G', 'PG', 'TV-PG',\n",
    "           'PG-13', 'TV-14',\n",
    "           'R', 'TV-MA', 'NC-17', 'NR', 'UR',\n",
    "           'TV-Y7-FV', 'G'\n",
    "           )\n",
    "age_rating = c('Kids', 'Kids', 'Kids', 'Kids', 'Kids', \n",
    "               'Teens', 'Teens', \n",
    "               'Adults', 'Adults', 'Adults', 'Adults', 'Adults' \n",
    "               ,'Kids', 'Kids'\n",
    "               )\n",
    "df$age_rating = as.character(\n",
    "  factor(\n",
    "    df$rating,\n",
    "    levels = rating,\n",
    "    labels = age_rating\n",
    "  )\n",
    ")\n",
    "treeAge <- count(df, age_rating)\n",
    "treeAge$labels = paste(treeAge$age_rating,  treeAge$n, sep = \"\\n \")\n",
    "\n",
    "treemap(treeAge,\n",
    "        index = c(\"labels\"), vSize = \"n\", title = \"Porównanie Kategorii wiekowych\",\n",
    "        fontsize.labels=c(15,12), fontcolor.labels=c(\"white\"), palette = c(\"#0000AA\", \"#3366CC\", \"#6633FF\"))"
   ]
  },
  {
   "cell_type": "markdown",
   "id": "76b10b36",
   "metadata": {},
   "source": [
    "Jak widać zdecydowana większość zawartości netflixa jest przeznaczona dla dorosłych  \n",
    "Jak się to ma do podziału na seriale i filmy?"
   ]
  },
  {
   "cell_type": "code",
   "execution_count": 16,
   "id": "94dfaeea",
   "metadata": {
    "vscode": {
     "languageId": "r"
    }
   },
   "outputs": [
    {
     "data": {
      "image/png": "[encoded data removed]",
      "text/plain": [
       "plot without title"
      ]
     },
     "metadata": {},
     "output_type": "display_data"
    }
   ],
   "source": [
    "tvShows <- df[df$type == \"TV Show\", ]\n",
    "movies <- df[df$type == \"Movie\", ]\n",
    "\n",
    "tvShowsRating <- count(tvShows, age_rating)\n",
    "moviesRating <- count(movies, age_rating)\n",
    "\n",
    "tvShowsRating$labels = paste(tvShowsRating$age_rating,  tvShowsRating$n, sep = \"\\n \")\n",
    "moviesRating$labels = paste(moviesRating$age_rating,  moviesRating$n, sep = \"\\n \")\n",
    "\n",
    "treemap(tvShowsRating,\n",
    "        index = c(\"labels\"), vSize = \"n\", title = \"Porównanie Kategorii wiekowych w serialach\",\n",
    "        fontsize.labels=c(15,12), fontcolor.labels=c(\"white\"), palette = c(\"#0000AA\", \"#3366CC\", \"#6633FF\"))"
   ]
  },
  {
   "cell_type": "markdown",
   "id": "74c05886",
   "metadata": {},
   "source": [
    "W serialach jest mniej tych dla nastolatków niż dla dzieci"
   ]
  },
  {
   "cell_type": "code",
   "execution_count": 17,
   "id": "1b85ba1a",
   "metadata": {
    "vscode": {
     "languageId": "r"
    }
   },
   "outputs": [
    {
     "data": {
      "image/png": "[encoded data removed]",
      "text/plain": [
       "plot without title"
      ]
     },
     "metadata": {},
     "output_type": "display_data"
    }
   ],
   "source": [
    "treemap(moviesRating,\n",
    "        index = c(\"labels\"), vSize = \"n\", title = \"Porównanie Kategorii wiekowych w filmach\",\n",
    "        fontsize.labels=c(15,12), fontcolor.labels=c(\"white\"), palette = c(\"#0000AA\", \"#3366CC\", \"#6633FF\"))"
   ]
  },
  {
   "cell_type": "markdown",
   "id": "0b4e5f1d",
   "metadata": {},
   "source": [
    "Za to w filmach wyraźnie widać różnicę między tymi dla dzieci, a tymi dla nastolatków"
   ]
  },
  {
   "cell_type": "markdown",
   "id": "7a5cdef5",
   "metadata": {},
   "source": [
    "## Dodawanie zawartości na przestrzeni lat"
   ]
  },
  {
   "cell_type": "code",
   "execution_count": 89,
   "id": "b7e4e8fc",
   "metadata": {
    "scrolled": false,
    "vscode": {
     "languageId": "r"
    }
   },
   "outputs": [
    {
     "data": {
      "image/png": "[encoded data removed]",
      "text/plain": [
       "plot without title"
      ]
     },
     "metadata": {},
     "output_type": "display_data"
    }
   ],
   "source": [
    "# przygotowanie danych do wykresu z dodawania treści na przestrzeni lat\n",
    "splitedDate <- data.frame()\n",
    "splitedDate <- sub('.*, ', '', df$date_added)\n",
    "plotYear <- data.frame(type = \"All\", splitedDate)\n",
    "plotYear <- count(plotYear, splitedDate, type)\n",
    "\n",
    "plotYear <- slice(plotYear, 1:(n() - 1)) \n",
    "\n",
    "splitedDate <- sub('.*, ', '', tvShows$date_added)\n",
    "plotTvYear <- data.frame(type = \"TV Show\", splitedDate)\n",
    "plotTvYear <- count(plotTvYear, splitedDate, type)\n",
    "\n",
    "plotMissing <- data.frame(type = \"TV Show\", splitedDate = c(\"2009\", \"2010\", \"2011\", \"2012\"), n = 0)\n",
    "plotTvYear <- rbind(plotTvYear[1,], plotMissing, plotTvYear[-(1),])\n",
    "\n",
    "plotTvYear <- slice(plotTvYear, 1:(n() - 1))\n",
    "\n",
    "splitedDate <- sub('.*, ', '', movies$date_added)\n",
    "plotMoviesYear <- data.frame(type = \"Movie\", splitedDate)\n",
    "plotMoviesYear <- count(plotMoviesYear, splitedDate, type)\n",
    "plotYearAll <- rbind(plotYear, plotMoviesYear, plotTvYear)\n",
    "\n",
    "ggplot(plotYearAll, aes(x = splitedDate, y = n, color = type, label = n))  +\n",
    "  geom_point() + \n",
    "  geom_line(data = plotYear, aes(group = 1)) +\n",
    "  geom_line(data = plotMoviesYear, aes(group = 2)) +\n",
    "  geom_line(data = plotTvYear, aes(group = 3)) +\n",
    "  geom_text(data = plotYearAll[plotYearAll$splitedDate == c(\"\", \"2016\", \"2017\", \"2018\", \"2019\", \"2020\", \"2021\"),], \n",
    "            color = \"black\", vjust = -0.5) +\n",
    "  xlab(\"Rok\")+ylab(\"Ilość\") +\n",
    "  ggtitle(\"Dodawanie treści na przestrzeni lat\") +\n",
    "  theme(legend.position = c(0.1,0.9)) +\n",
    "  scale_color_manual(values = c(\"red\", \"blue\", \"green\"))"
   ]
  },
  {
   "cell_type": "markdown",
   "id": "6087adeb",
   "metadata": {},
   "source": [
    "Zauważalny wzrost zawartości rozpoczął się w 2015 roku  \n",
    "Wzrost liczby filmów w serwisie Netflix jest znacznie wyższy niż w przypadku programów telewizyjnych  \n",
    "W latach 2018 - 2020, co roku dodano ponad 1200 nowych filmów  \n",
    "\n",
    "A w których miesiącach najczęściej były te treści dodawane?\n"
   ]
  },
  {
   "cell_type": "code",
   "execution_count": 19,
   "id": "38c11444",
   "metadata": {
    "vscode": {
     "languageId": "r"
    }
   },
   "outputs": [
    {
     "data": {
      "image/png": "[encoded data removed]",
      "text/plain": [
       "plot without title"
      ]
     },
     "metadata": {},
     "output_type": "display_data"
    }
   ],
   "source": [
    "splitedMonth <- sub(' .*', '', df$date_added)\n",
    "plotMonth <- data.frame(splitedMonth)\n",
    "plotMonth <- count(plotMonth, splitedMonth)\n",
    "plotMonth <- slice(plotMonth, which(plotMonth$splitedMonth != \"Brak\")) \n",
    "\n",
    "plotMonth$num = as.character(\n",
    "  factor(\n",
    "    plotMonth$splitedMonth,\n",
    "    levels = month.name,\n",
    "    labels = c(1:12)\n",
    "  )\n",
    ")\n",
    "\n",
    "plotMonth <- plotMonth[order(as.numeric(plotMonth$num)),]\n",
    "\n",
    "ggplot(data = plotMonth ,aes(x = reorder(splitedMonth, n), y = n, fill = n)) +\n",
    "  geom_bar(stat = \"identity\",width = 1,colour = \"white\",size = 0.7) +\n",
    "  coord_polar() +\n",
    "  scale_fill_gradient(low = \"white\", high = \"dodgerblue3\") +\n",
    "  xlab(\"\") + \n",
    "  ylab(\"\") +\n",
    "  ggtitle(\"Dodawanie treści na miesiącach\") + \n",
    "  theme(plot.title = element_text(size=20, face=\"bold\"),) + \n",
    "  guides(fill=guide_legend(title=\"Amount\"))"
   ]
  },
  {
   "cell_type": "markdown",
   "id": "d221a312",
   "metadata": {},
   "source": [
    "Jak widać najczęściej treść na Netflixie pojawiała się w Grudniu oraz Lipcu"
   ]
  },
  {
   "cell_type": "markdown",
   "id": "33d40a29",
   "metadata": {},
   "source": [
    "## Gatunki filmowe"
   ]
  },
  {
   "cell_type": "code",
   "execution_count": 29,
   "id": "bcaccf5e",
   "metadata": {
    "vscode": {
     "languageId": "r"
    }
   },
   "outputs": [
    {
     "data": {
      "image/png": "[encoded data removed]",
      "text/plain": [
       "plot without title"
      ]
     },
     "metadata": {},
     "output_type": "display_data"
    }
   ],
   "source": [
    "toCategory <- df %>% \n",
    "  filter(type=='Movie') %>% \n",
    "  separate_rows(listed_in,sep = ', ') %>% \n",
    "  group_by(listed_in) %>% \n",
    "  count()\n",
    "\n",
    "ggplot(toCategory, aes(x = reorder(listed_in, n), y = n, fill = n)) +\n",
    "  geom_bar(stat = 'identity') +\n",
    "  scale_fill_gradient(low = \"grey\", high = \"dodgerblue3\") +\n",
    "  xlab(\"Kategorie\") + ylab(\"Ilość\") +\n",
    "  coord_flip()"
   ]
  },
  {
   "cell_type": "markdown",
   "id": "0d818a32",
   "metadata": {},
   "source": [
    "## Korelacja gatunków"
   ]
  },
  {
   "cell_type": "code",
   "execution_count": 21,
   "id": "be5702b3",
   "metadata": {
    "vscode": {
     "languageId": "r"
    }
   },
   "outputs": [
    {
     "data": {
      "image/png": "[encoded data removed]",
      "text/plain": [
       "plot without title"
      ]
     },
     "metadata": {},
     "output_type": "display_data"
    }
   ],
   "source": [
    "dfCategories <- df %>% \n",
    "  select(c('show_id','type','listed_in')) %>% \n",
    "  separate_rows(listed_in, sep = ',') %>%\n",
    "  rename(Category = listed_in)\n",
    "dfCategories$Category <- trimws(dfCategories$Category)\n",
    "\n",
    "dfUniqueCategories <- dfCategories %>% group_by(type,Category) %>%  summarise()\n",
    "\n",
    "# Korelacja gatunków w filmach\n",
    "Category1 = subset(dfUniqueCategories, type == 'Movie')$Category\n",
    "Category2 = subset(dfUniqueCategories, type == 'Movie')$Category\n",
    "dfCategoryCorrelationsMovies <- data.frame(expand.grid(type = 'Movie', Category1, Category2))\n",
    "\n",
    "# Korelacja gatunków w serialach\n",
    "Category1 = subset(dfUniqueCategories, type == 'TV Show')$Category\n",
    "Category2 = subset(dfUniqueCategories, type == 'TV Show')$Category\n",
    "dfCategoryCorrelationsTv <- data.frame(expand.grid(type = 'TV Show', Category1, Category2))\n",
    "\n",
    "# Połączenie obu data.frame'ów\n",
    "dfCategoryCorrelations <- rbind(dfCategoryCorrelationsMovies, dfCategoryCorrelationsTv)\n",
    "# Zliczamy wszystkie połączenia gatunków\n",
    "dfCategoryCorrelations$matchedCount <- apply(dfCategoryCorrelations, MARGIN = 1,FUN = function(x) {\n",
    "  length(intersect(subset(dfCategories, type == x['type'] & Category == x['Var2'])$show_id,\n",
    "                   subset(dfCategories, type == x['type'] & Category == x['Var3'])$show_id))})\n",
    "\n",
    "# Usuwamy korelacje gatunku samego ze sobą oraz wszystkich tych których była zerowa\n",
    "dfCategoryCorrelations <- subset(dfCategoryCorrelations, (as.character(Var2) < as.character(Var3)) &  matchedCount > 0)\n",
    "\n",
    "ggplot(subset(dfCategoryCorrelations, type == 'Movie'), aes(x = Var2, y = Var3, fill = matchedCount)) + \n",
    "  geom_tile() + \n",
    "  ggtitle(\"Korelacja Gatunków Filmów\") + \n",
    "  theme(plot.title = element_text(size=20, face=\"bold\"),) +\n",
    "  scale_fill_distiller(palette = \"Spectral\") + \n",
    "  theme(axis.text.x = element_text(angle = 90, vjust = 0.5, hjust=1)) + \n",
    "  theme(legend.text = element_text(size = 14), legend.title = element_text(size = 16)) +\n",
    "  xlab(\"\") + ylab(\"\")"
   ]
  },
  {
   "cell_type": "markdown",
   "id": "b422df77",
   "metadata": {},
   "source": [
    "Najwięcej filmów posiada gatunki \"International Dramas\"  \n",
    "Dodatkowo można zauważyć, że \"Wiara i duchowość\" nie pokrywają się z filmami \"LGBTQ\"."
   ]
  },
  {
   "cell_type": "code",
   "execution_count": 22,
   "id": "75c7ac89",
   "metadata": {
    "vscode": {
     "languageId": "r"
    }
   },
   "outputs": [
    {
     "data": {
      "image/png": "[encoded data removed]",
      "text/plain": [
       "plot without title"
      ]
     },
     "metadata": {},
     "output_type": "display_data"
    }
   ],
   "source": [
    "ggplot(subset(dfCategoryCorrelations, type == 'TV Show'), aes(x = Var2, y = Var3, fill = matchedCount)) + \n",
    "  geom_tile() + \n",
    "  ggtitle(\"Korelacja Gatunków Seriali\") + \n",
    "  theme(plot.title = element_text(size=20, face=\"bold\"),) +\n",
    "  scale_fill_distiller(palette = \"Spectral\") + \n",
    "  theme(axis.text.x = element_text(angle = 90, vjust = 0.5, hjust=1)) + \n",
    "  theme(legend.text = element_text(size = 14), legend.title = element_text(size = 16)) +\n",
    "  xlab(\"\") + ylab(\"\")"
   ]
  },
  {
   "cell_type": "markdown",
   "id": "32b2a635",
   "metadata": {},
   "source": [
    "Tutaj tak samo najwięcej połączeń gatunków w serialach to \"International Dramas\""
   ]
  },
  {
   "cell_type": "markdown",
   "id": "86060351",
   "metadata": {},
   "source": [
    "## Podział względem krajów  \n",
    "\n",
    "Wyznaczmy top 15 dla krajów"
   ]
  },
  {
   "cell_type": "code",
   "execution_count": 23,
   "id": "fbadce31",
   "metadata": {
    "vscode": {
     "languageId": "r"
    }
   },
   "outputs": [
    {
     "data": {
      "text/html": [
       "<table>\n",
       "<thead><tr><th scope=col>country</th><th scope=col>count</th></tr></thead>\n",
       "<tbody>\n",
       "\t<tr><td>United States </td><td>3690          </td></tr>\n",
       "\t<tr><td>India         </td><td>1046          </td></tr>\n",
       "\t<tr><td>Brak danych   </td><td> 831          </td></tr>\n",
       "\t<tr><td>United Kingdom</td><td> 806          </td></tr>\n",
       "\t<tr><td>Canada        </td><td> 445          </td></tr>\n",
       "\t<tr><td>France        </td><td> 393          </td></tr>\n",
       "</tbody>\n",
       "</table>\n"
      ],
      "text/latex": [
       "\\begin{tabular}{r|ll}\n",
       " country & count\\\\\n",
       "\\hline\n",
       "\t United States  & 3690          \\\\\n",
       "\t India          & 1046          \\\\\n",
       "\t Brak danych    &  831          \\\\\n",
       "\t United Kingdom &  806          \\\\\n",
       "\t Canada         &  445          \\\\\n",
       "\t France         &  393          \\\\\n",
       "\\end{tabular}\n"
      ],
      "text/markdown": [
       "\n",
       "| country | count |\n",
       "|---|---|\n",
       "| United States  | 3690           |\n",
       "| India          | 1046           |\n",
       "| Brak danych    |  831           |\n",
       "| United Kingdom |  806           |\n",
       "| Canada         |  445           |\n",
       "| France         |  393           |\n",
       "\n"
      ],
      "text/plain": [
       "  country        count\n",
       "1 United States  3690 \n",
       "2 India          1046 \n",
       "3 Brak danych     831 \n",
       "4 United Kingdom  806 \n",
       "5 Canada          445 \n",
       "6 France          393 "
      ]
     },
     "metadata": {},
     "output_type": "display_data"
    }
   ],
   "source": [
    "topCountries <- df %>%  \n",
    "  separate_rows(country,sep=\"(, |,)\") %>%\n",
    "  group_by(country) %>%  \n",
    "  summarise(count=n()) %>% \n",
    "  arrange(desc(count))\n",
    "head(topCountries)"
   ]
  },
  {
   "cell_type": "markdown",
   "id": "3d80bf78",
   "metadata": {},
   "source": [
    "Widzimy że jest sporo braków, ale mimo wszystko spróbujemy bez tych danych"
   ]
  },
  {
   "cell_type": "code",
   "execution_count": 24,
   "id": "efd0bea9",
   "metadata": {
    "vscode": {
     "languageId": "r"
    }
   },
   "outputs": [
    {
     "data": {
      "image/png": "[encoded data removed]",
      "text/plain": [
       "plot without title"
      ]
     },
     "metadata": {},
     "output_type": "display_data"
    }
   ],
   "source": [
    "topCountries <- slice(topCountries, which(topCountries$country != \"Brak danych\"))\n",
    "\n",
    "topCountriesNames <- as.vector(topCountries$country[1:15])\n",
    "\n",
    "toPlot <- df %>%  \n",
    "  separate_rows(country, sep = \", \") %>%\n",
    "  filter(country %in% topCountriesNames) %>% \n",
    "  mutate(country=factor(country, levels = topCountriesNames)) %>% \n",
    "  group_by(country, type) %>% \n",
    "  summarise(count = n()) \n",
    "\n",
    "ggplot(toPlot, aes(x = reorder(country, count), y = count, fill = type)) +\n",
    "  scale_fill_manual(values = c(\"#3366CC\", \"#0000AA\")) + \n",
    "  geom_bar(stat = 'identity') +\n",
    "  ylab(\"Ilość\") + xlab(\"Kraje\") +\n",
    "  coord_flip()"
   ]
  },
  {
   "cell_type": "markdown",
   "id": "48712a99",
   "metadata": {},
   "source": [
    "Jak widać Stany zjednoczone górują ilością.  \n",
    "W większości przypadków widać przewagę Filmów nad serialami  \n",
    "Jednak widać, że nie w każdym przypadku tak jest.  \n",
    "\n",
    "\n",
    "Które kraje mają więcej seriali niż filmów na tej platformie?  "
   ]
  },
  {
   "cell_type": "code",
   "execution_count": 25,
   "id": "98b74fcb",
   "metadata": {
    "vscode": {
     "languageId": "r"
    }
   },
   "outputs": [
    {
     "data": {
      "image/png": "[encoded data removed]",
      "text/plain": [
       "plot without title"
      ]
     },
     "metadata": {},
     "output_type": "display_data"
    }
   ],
   "source": [
    "ggplot(toPlot, aes(x = country, y = count, fill = type)) +\n",
    "  geom_bar(stat = 'identity', position = 'fill') +\n",
    "  scale_fill_manual(values = c(\"#89ABE3\", \"#3366CC\")) + \n",
    "  ylab(\"Ilość procentowo\") + xlab(\"Kraje\") +\n",
    "  coord_flip()"
   ]
  },
  {
   "cell_type": "markdown",
   "id": "d73570ce",
   "metadata": {},
   "source": [
    "Jak widać na wykresie,  \n",
    "krajami które mają na netflixie więcej seriali niż filmów są Japonia oraz Korea Południowa.  \n",
    "Natomiast Hong Kong prawie w ogóle nie ma seriali"
   ]
  },
  {
   "cell_type": "code",
   "execution_count": 26,
   "id": "83e43fc3",
   "metadata": {
    "scrolled": true,
    "vscode": {
     "languageId": "r"
    }
   },
   "outputs": [
    {
     "data": {
      "text/html": [
       "<table>\n",
       "<thead><tr><th scope=col>country</th><th scope=col>type</th><th scope=col>count</th></tr></thead>\n",
       "<tbody>\n",
       "\t<tr><td>Hong Kong</td><td>Movie    </td><td>100      </td></tr>\n",
       "\t<tr><td>Hong Kong</td><td>TV Show  </td><td>  5      </td></tr>\n",
       "</tbody>\n",
       "</table>\n"
      ],
      "text/latex": [
       "\\begin{tabular}{r|lll}\n",
       " country & type & count\\\\\n",
       "\\hline\n",
       "\t Hong Kong & Movie     & 100      \\\\\n",
       "\t Hong Kong & TV Show   &   5      \\\\\n",
       "\\end{tabular}\n"
      ],
      "text/markdown": [
       "\n",
       "| country | type | count |\n",
       "|---|---|---|\n",
       "| Hong Kong | Movie     | 100       |\n",
       "| Hong Kong | TV Show   |   5       |\n",
       "\n"
      ],
      "text/plain": [
       "  country   type    count\n",
       "1 Hong Kong Movie   100  \n",
       "2 Hong Kong TV Show   5  "
      ]
     },
     "metadata": {},
     "output_type": "display_data"
    }
   ],
   "source": [
    "toPlot[toPlot$country == \"Hong Kong\",]"
   ]
  },
  {
   "cell_type": "markdown",
   "id": "4a1aabbf",
   "metadata": {},
   "source": [
    "Ma ich tylko 5."
   ]
  }
 ],
 "metadata": {
  "kernelspec": {
   "display_name": "R",
   "language": "R",
   "name": "ir"
  },
  "language_info": {
   "codemirror_mode": "r",
   "file_extension": ".r",
   "mimetype": "text/x-r-source",
   "name": "R",
   "pygments_lexer": "r",
   "version": "3.6.1"
  }
 },
 "nbformat": 4,
 "nbformat_minor": 5
}
